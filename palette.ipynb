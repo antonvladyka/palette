{
 "cells": [
  {
   "cell_type": "markdown",
   "metadata": {},
   "source": [
    "# Microsoft Palette\n",
    "Palette file (\\*.pal) is a binary file consisiting of the list of colors in hexadecimal format. Such files are used by various software, e.g. Originlab. \n",
    "Recent versions of Origin have nice set of palettes but sometimes own-designed one in desired.\n",
    "The header of PAL file includes:\n",
    "- ASCII text **RIFF** \n",
    "- INT number *file_size-8*\n",
    "- ASCII text **PAL_** (with trailing space)\n",
    "- ASCII text **data**\n",
    "- INT number *file_size-20*\n",
    "- INT numbers 0, 3, palette_size\n",
    ", where *palette_size* is the number of colors, and *file_size* = *palette_size*\\*4\n",
    "\n",
    "### Example header file\n",
    "First 8\\*4=32 bytes\n",
    "\n",
    "``f = open('palette.pal', 'rb')\n",
    "for i in range(8):\n",
    "    l = f.read(4)\n",
    "    print(l)\n",
    "f.close()\n",
    "``\n",
    "\n", 
    "file size = 1048 bytes\n",
    "- `b'RIFF'`\n",
    "- `b'\\x10\\x04\\x00\\x00'` = 0x0410 = 1040\n",
    "- `b'PAL '`\n",
    "- `b'data'`\n",
    "- `b'\\x04\\x04\\x00\\x00'` = 0x0404 = 1028\n",
    "- `b'\\x00\\x03\\x00\\x01'` = 0, 3, 0x0100 = 256 colors\n",
    "- `b'\\x050a\\x00'` First color, RGBA: 0x05 = 5, b'0' = 0x30 = 48, b'a' = 0x61 = 97, 0x00 = 0 \n",
    "- `b'\\x062d\\x00'` Second color, RGBA: 0x06 = 6, b'2' = 0x32 = 50, b'd' = 0x64 = 100, 0x00 = 0 "
   ]
  },
  {
   "cell_type": "code",
   "execution_count": 293,
   "metadata": {},
   "outputs": [],
   "source": [
    "def palette(colors, palette_size = 256, pos = None):\n",
    "    if type(colors) == list:\n",
    "        if type(colors[0]) == str:\n",
    "            colors = [[int(color[1:3],16),int(color[3:5],16),int(color[5:],16)] for color in colors]\n",
    "    elif type(colors) != np.ndarray:\n",
    "        colors = np.array(colors)\n",
    "        if colors.dtype != np.int:\n",
    "            colors = (colors*255).astype(int)\n",
    "    if pos is None:\n",
    "        pos = np.linspace(0, palette_size-1,len(colors)).astype(int)\n",
    "    else:\n",
    "        pos = np.array((palette_size-1)*(pos - pos.min())/(pos.max()-pos.min())).astype(int)\n",
    "    x = np.arange(palette_size)\n",
    "    out = np.apply_along_axis(lambda a: np.interp(x, pos, a).astype(int), 0, colors)\n",
    "    return out"
   ]
  },
  {
   "cell_type": "code",
   "execution_count": 310,
   "metadata": {},
   "outputs": [],
   "source": [
    "# list of lists of colors \n",
    "# Both hexadecimal and RGB colors are accepted as well as rgb in [0..1] range\n",
    "cols = [np.array([[55,49,149],[1,142,248],[73,219,112],[255,255,154],[188,160,112],[143,97,84],[182,154,143],[255,255,255]]), \\\n",
    "        ['#ffffd9', '#edf8b1', '#c7e9b4', '#7fcdbb', '#41b6c4', '#1d91c0', '#225ea8', '#253494', '#081d58'],\\\n",
    "        ['#984ea3','#377eb8','#4daf4a','#ffff33','#ff7f00','#e41a1c'], \\\n",
    "        [[23,127,63],[127,191,127],[255,255,95],[223,127,63],[191,0,31]], \\\n",
    "        [[0,63,191],[0,127,159],[127,191,127],[255,255,95],[223,127,63],[191,0,31],[159,0,0]],\\\n",
    "    ['#67001f','#b2182b','#d6604d','#f4a582','#fddbc7','#f7f7f7','#d1e5f0','#92c5de','#4393c3','#2166ac','#053061']]"
   ]
  },
  {
   "cell_type": "code",
   "execution_count": 311,
   "metadata": {},
   "outputs": [
    {
     "data": {
      "image/png": "[encoded data removed]",
      "text/plain": [
       "<Figure size 1080x360 with 6 Axes>"
      ]
     },
     "metadata": {
      "needs_background": "light"
     },
     "output_type": "display_data"
    }
   ],
   "source": [
    "plt.rcParams['figure.figsize'] = (15,5)\n",
    "for index, col in enumerate(cols):\n",
    "    plt.subplot(3,3, index+1)\n",
    "    out = palette(col)\n",
    "    o = np.tile(out, (50,1,1))\n",
    "    plt.imshow(o)"
   ]
  },
  {
   "cell_type": "code",
   "execution_count": 299,
   "metadata": {},
   "outputs": [],
   "source": [
    "# write 'out' into 'palette.pal'\n",
    "data_size = palette_size * 4\n",
    "file_size = data_size + 24\n",
    "lines = [b'RIFF', struct.pack('<I',file_size-8), b'PAL ', b'data', struct.pack('<I',file_size - 20), struct.pack('<BBH',0,3,palette_size)] \n",
    "f = open('palette.pal','wb+')\n",
    "for line in lines:\n",
    "    f.write(line)\n",
    "for i in range(out.shape[0]):\n",
    "    line = struct.pack('>BBBB',*out[i, :],0)\n",
    "    f.write(line)\n",
    "f.close()"
   ]
  },
  {
   "cell_type": "code",
   "execution_count": null,
   "metadata": {},
   "outputs": [],
   "source": []
  }
 ],
 "metadata": {
  "kernelspec": {
   "display_name": "Python 3",
   "language": "python",
   "name": "python3"
  },
  "language_info": {
   "codemirror_mode": {
    "name": "ipython",
    "version": 3
   },
   "file_extension": ".py",
   "mimetype": "text/x-python",
   "name": "python",
   "nbconvert_exporter": "python",
   "pygments_lexer": "ipython3",
   "version": "3.8.5"
  }
 },
 "nbformat": 4,
 "nbformat_minor": 4
}
