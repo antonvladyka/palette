{
 "cells": [
  {
   "cell_type": "markdown",
   "metadata": {},
   "source": [
    "# Microsoft Palette\n",
    "Palette file (\\*.pal) is a binary file consisiting of the list of colors in hexadecimal format. Such files are used by various software, e.g. Originlab. \n",
    "Recent versions of Origin have nice set of palettes but sometimes own-designed one is desired/preferred.\n",
    "PAL file consists of the header (24 bytes) and the list of colors, 4 bytes per color (RGBA). The header includes:\n",
    "- ASCII text '**RIFF**'\n",
    "- INT number *file_size-8*\n",
    "- ASCII text '**PAL data**'\n",
    "- INT number *file_size-20*\n",
    "- INT numbers 0, 3, palette_size\n",
    ", where *palette_size* is the number of colors, and *file_size* = *palette_size*\\*4\n",
    "\n",
    "## Example\n",
    "Rainbow.pal, default from OriginLab\n",
    "\n",
    "1052 bytes = Header (24 bytes) + 256 Colors (256x4=1024 bytes) + 4 bytes (Trash?)\n",
    "\n",
    "First 8\\*4=32 bytes: "
   ]
  },
  {
   "cell_type": "code",
   "execution_count": 1,
   "metadata": {},
   "outputs": [
    {
     "name": "stdout",
     "output_type": "stream",
     "text": [
      "b'RIFF'\n",
      "b'\\x14\\x04\\x00\\x00'\n",
      "b'PAL '\n",
      "b'data'\n",
      "b'\\x08\\x04\\x00\\x00'\n",
      "b'\\x00\\x03\\x00\\x01'\n",
      "b'l\\x00l\\x00'\n",
      "b'p\\x00v\\x00'\n"
     ]
    }
   ],
   "source": [
    "f = open('rainbow.pal', 'rb')\n",
    "for i in range(8):\n",
    "    l = f.read(4)\n",
    "    print(l)\n",
    "f.close()"
   ]
  },
  {
   "cell_type": "markdown",
   "metadata": {},
   "source": [
    "- `b'RIFF'`\n",
    "- `b'\\x14\\x04\\x00\\x00'` = 0x00000414 = 1044\n",
    "- `b'PAL '`\n",
    "- `b'data'`\n",
    "- `b'\\x08\\x04\\x00\\x00'` = 0x00000408 = 1032\n",
    "- `b'\\x00\\x03\\x00\\x01'` = 0, 3, 0x0100 = 256 colors\n",
    "- `b'l\\x00l\\x00'` First color, RGBA: b'l' = 0x6c = 108, b'\\x00' = 0, b'l' = 0x6c = 108, b'\\x00' = 0 \n",
    "- `b'p\\x00v\\x00'` Second color, RGBA: b'p' = 0x70 = 112, b'\\x00' = 0, b'v' = 0x76 = 118, b'\\x00' = 0 "
   ]
  },
  {
   "cell_type": "code",
   "execution_count": 2,
   "metadata": {},
   "outputs": [],
   "source": [
    "import struct\n",
    "import os\n",
    "import numpy as np\n",
    "import matplotlib.pyplot as plt"
   ]
  },
  {
   "cell_type": "code",
   "execution_count": 3,
   "metadata": {},
   "outputs": [],
   "source": [
    "# get the list of colors from *.pal file:\n",
    "def read_pal(filename):\n",
    "    with open(filename, 'rb') as f:\n",
    "        # no check of consistency\n",
    "        f.read(22)\n",
    "        p = f.read(2)\n",
    "        palette_size = struct.unpack('<H',p)[0]\n",
    "        colors = []\n",
    "        for j in range(palette_size):\n",
    "            p = f.read(3)\n",
    "            colors.append(struct.unpack('BBB',p))\n",
    "            f.read(1)\n",
    "    colors = np.array(colors)\n",
    "    return colors"
   ]
  },
  {
   "cell_type": "code",
   "execution_count": 4,
   "metadata": {},
   "outputs": [],
   "source": [
    "colors = read_pal('rainbow.pal')"
   ]
  },
  {
   "cell_type": "code",
   "execution_count": 6,
   "metadata": {},
   "outputs": [
    {
     "data": {
      "text/plain": [
       "<matplotlib.image.AxesImage at 0x1debd0d3340>"
      ]
     },
     "execution_count": 6,
     "metadata": {},
     "output_type": "execute_result"
    },
    {
     "data": {
      "image/png": "[encoded data removed]",
      "text/plain": [
       "<Figure size 504x144 with 1 Axes>"
      ]
     },
     "metadata": {
      "needs_background": "light"
     },
     "output_type": "display_data"
    }
   ],
   "source": [
    "# Show the colormap\n",
    "plt.rcParams['figure.figsize'] = (7,2)\n",
    "o = np.tile(colors, (50,1,1))\n",
    "plt.imshow(o)"
   ]
  },
  {
   "cell_type": "code",
   "execution_count": 7,
   "metadata": {},
   "outputs": [
    {
     "data": {
      "text/plain": [
       "<matplotlib.image.AxesImage at 0x1debd3de9a0>"
      ]
     },
     "execution_count": 7,
     "metadata": {},
     "output_type": "execute_result"
    },
    {
     "data": {
      "image/png": "[encoded data removed]",
      "text/plain": [
       "<Figure size 491.52x122.88 with 1 Axes>"
      ]
     },
     "metadata": {
      "needs_background": "light"
     },
     "output_type": "display_data"
    }
   ],
   "source": [
    "# palette without axes\n",
    "palette_height, palette_width = colors.shape[0] // 4, colors.shape[0]\n",
    "dpi = 150\n",
    "fig = plt.figure(figsize=(4*palette_width/dpi, 4*palette_height/dpi))\n",
    "#fig = plt.figure(figsize=(6, 1.5))\n",
    "ax = fig.add_axes((0,0,1,1))\n",
    "ax.axis('off')\n",
    "o = np.tile(colors, (palette_height,1,1))\n",
    "plt.imshow(o)\n",
    "#plt.savefig('rainbox.pal.png',dpi=dpi)"
   ]
  },
  {
   "cell_type": "code",
   "execution_count": 8,
   "metadata": {},
   "outputs": [],
   "source": [
    "def palette(colors, palette_size = 256, pos = None):\n",
    "    '''\n",
    "        pos defines the location of the colors in the palette, in not equal spacing is requested\n",
    "        pos must be the save length as base colors\n",
    "        e.g. for three colors with pos = [1, 2, 4] and palette size = 10:\n",
    "        color #0: at first position #0\n",
    "        color #2: at last position: #9\n",
    "        color #1: such that distance to color #2 is twice longer than color #0, i.e. (9-0)/(4-1)*(2-1) = 3\n",
    "    '''\n",
    "    if type(colors) == list:\n",
    "        if type(colors[0]) == str:\n",
    "            colors = [[int(color[1:3],16),int(color[3:5],16),int(color[5:],16)] for color in colors]\n",
    "    elif type(colors) != np.ndarray:\n",
    "        colors = np.array(colors)\n",
    "        if colors.dtype != np.int:\n",
    "            colors = (colors*255).astype(int)\n",
    "    if pos is None:\n",
    "        _pos = np.linspace(0, palette_size-1,len(colors)).astype(int)\n",
    "    else:\n",
    "        pos = np.array(pos)\n",
    "        _pos = np.array((palette_size-1)*(pos - pos.min())/(pos.max()-pos.min())).astype(int)\n",
    "    x = np.arange(palette_size)\n",
    "    out = np.apply_along_axis(lambda a: np.interp(x, _pos, a).astype(int), 0, colors)\n",
    "    return out"
   ]
  },
  {
   "cell_type": "code",
   "execution_count": 9,
   "metadata": {},
   "outputs": [],
   "source": [
    "# list of lists of colors  - some palettes\n",
    "# Both hexadecimal and RGB colors are accepted as well as rgb in [0..1] range\n",
    "cols = [np.array([[55,49,149],[1,142,248],[73,219,112],[255,255,154],[188,160,112],[143,97,84],[182,154,143],[255,255,255]]), \\\n",
    "        ['#ffffd9', '#edf8b1', '#c7e9b4', '#7fcdbb', '#41b6c4', '#1d91c0', '#225ea8', '#253494', '#081d58'],\\\n",
    "        ['#984ea3','#377eb8','#4daf4a','#ffff33','#ff7f00','#e41a1c'], \\\n",
    "        [[23,127,63],[127,191,127],[255,255,95],[223,127,63],[191,0,31]], \\\n",
    "        [[0,63,191],[0,127,159],[127,191,127],[255,255,95],[223,127,63],[191,0,31],[159,0,0]],\\\n",
    "    ['#67001f','#b2182b','#d6604d','#f4a582','#fddbc7','#f7f7f7','#d1e5f0','#92c5de','#4393c3','#2166ac','#053061']]"
   ]
  },
  {
   "cell_type": "code",
   "execution_count": 10,
   "metadata": {},
   "outputs": [
    {
     "data": {
      "image/png": "[encoded data removed]",
      "text/plain": [
       "<Figure size 1080x360 with 6 Axes>"
      ]
     },
     "metadata": {
      "needs_background": "light"
     },
     "output_type": "display_data"
    }
   ],
   "source": [
    "plt.rcParams['figure.figsize'] = (15,5)\n",
    "for index, col in enumerate(cols):\n",
    "    plt.subplot(3,3, index+1)\n",
    "    out = palette(col)\n",
    "    o = np.tile(out, (50,1,1))\n",
    "    plt.imshow(o)"
   ]
  },
  {
   "cell_type": "code",
   "execution_count": null,
   "metadata": {},
   "outputs": [],
   "source": [
    "# saving the colormap into the file\n",
    "filename = 'palette.pal' # define filename\n",
    "# write 'out' into 'palette.pal'\n",
    " palette_size = out.shape[0]\n",
    "data_size = palette_size * 4\n",
    "file_size = data_size + 24\n",
    "lines = [b'RIFF', struct.pack('<I',file_size-8), b'PAL data', struct.pack('<I',file_size - 20), struct.pack('<BBH',0,3,palette_size)] \n",
    "with open(filename,'wb+') as f:\n",
    "    for line in lines:\n",
    "        f.write(line)\n",
    "    for i in range(out.shape[0]):\n",
    "        line = struct.pack('>BBBB',*out[i, :], 0)\n",
    "        f.write(line)"
   ]
  },
  {
   "cell_type": "code",
   "execution_count": 11,
   "metadata": {},
   "outputs": [
    {
     "data": {
      "image/png": "[encoded data removed]",
      "text/plain": [
       "<Figure size 1080x360 with 4 Axes>"
      ]
     },
     "metadata": {
      "needs_background": "light"
     },
     "output_type": "display_data"
    }
   ],
   "source": [
    "# Demo of the pos argument\n",
    "# pos = [0, 1, 5] => middle color is a 20% of the scale\n",
    "colors = ['#67001f','#ffffff', '#053061']\n",
    "plt.rcParams['figure.figsize'] = (15,5)\n",
    "for index in range(4):\n",
    "    plt.subplot(2,2, index+1)\n",
    "    out = palette(colors,251, pos=[0,index+1, 5])\n",
    "    o = np.tile(out, (50,1,1))\n",
    "    plt.imshow(o)"
   ]
  },
  {
   "cell_type": "code",
   "execution_count": 12,
   "metadata": {},
   "outputs": [],
   "source": [
    "# get the list of colors from *.pal file:\n",
    "# with cchecking the file consistency\n",
    "def read_pal(filename):\n",
    "    file_size = os.path.getsize(filename)\n",
    "    with open(filename, 'rb') as f:\n",
    "        tmp = f.read(4)\n",
    "        if tmp != b'RIFF':\n",
    "            raise RuntimeError('File not consistent (bytes 0-3)')\n",
    "        tmp = struct.unpack('<H',f.read(4))[0]\n",
    "        if tmp != file_size - 8:\n",
    "            raise RuntimeError('File not consistent: file size is wrong (bytes 4-7)')\n",
    "        tmp = f.read(8)\n",
    "        if tmp != b'PAL data':\n",
    "            raise RuntimeError('File not consistent (bytes 8-15)')\n",
    "        tmp = struct.unpack('<H',f.read(4))[0]\n",
    "        if tmp != file_size - 20:\n",
    "            raise RuntimeError('File not consistent: file size is wrong (bytes 16-19)')\n",
    "        tmp = f.read(1)\n",
    "        if tmp != b'0':\n",
    "            raise RuntimeError('File not consistent (byte 20)')\n",
    "        tmp = f.read(1)\n",
    "        if tmp != b'3':\n",
    "            raise RuntimeError('File not consistent (byte 21)')\n",
    "        palette_size = struct.unpack('<H',f.read(4))[0]\n",
    "        if palette_size * 4 < file_size - 24:\n",
    "            raise RuntimeError('File not consistent (palette size is wrong)')\n",
    "        colors = []\n",
    "        for j in range(palette_size):\n",
    "            p = f.read(3)\n",
    "            colors.append(struct.unpack('BBB',p))\n",
    "            f.read(1)\n",
    "    colors = np.array(colors)\n",
    "    return colors"
   ]
  }
 ],
 "metadata": {
  "kernelspec": {
   "display_name": "Python 3",
   "language": "python",
   "name": "python3"
  },
  "language_info": {
   "codemirror_mode": {
    "name": "ipython",
    "version": 3
   },
   "file_extension": ".py",
   "mimetype": "text/x-python",
   "name": "python",
   "nbconvert_exporter": "python",
   "pygments_lexer": "ipython3",
   "version": "3.8.5"
  }
 },
 "nbformat": 4,
 "nbformat_minor": 4
}
